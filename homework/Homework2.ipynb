{
 "cells": [
  {
   "cell_type": "markdown",
   "metadata": {},
   "source": [
    "\n",
    "### UNI: yb2356 \n",
    "### Name: Yang Bai\n",
    "\n"
   ]
  },
  {
   "cell_type": "markdown",
   "metadata": {},
   "source": [
    "\n",
    "### Problem 1 :\n",
    "Define a random variable X(i,j):\n",
    "$$X(i,j)=1 \\ \\ \\ if \\ a_i>a_j \\ and\\  i< j$$\n",
    "$$X(i,j)=0 \\ \\ \\ otherwise$$\n",
    "The expected number of iversions is \n",
    "$$E[\\sum_{i=0}^n \\sum_{j=i+1}^nX(i,j)]$$\n",
    "The probablity of X(i,j)=1 is 0.5, so \n",
    "$$E[\\sum_{i=0}^n \\sum_{j=i+1}^nX(i,j)]=E[\\sum_{i=0}^n \\sum_{j=i+1}^n\\frac{1}{2}]=\\frac{n*(n-1)}{2}* \\frac{1}{2}$$\n"
   ]
  },
  {
   "cell_type": "markdown",
   "metadata": {},
   "source": [
    "\n"
   ]
  },
  {
   "cell_type": "markdown",
   "metadata": {},
   "source": [
    "### Problem 2:\n",
    "#### (a)\n",
    "\n",
    "\n",
    "\n",
    "Proof:\n",
    "\n",
    "**Base:**\n",
    "  If n = 2, the probabilities of storing the first and second element are both 1/2, so the sample is uniformly distrubuted.\n",
    "   \n",
    "   \n",
    "**Hypothesis:**  If the sample is uniformly distributed for n = k-1, the probability of storing any element in the past k-1 elements is equal. \n",
    "   \n",
    "   \n",
    "**Step:**  When n = k, the probability of storing the k-th element is 1/k and the probability of storing the previous k elements is \n",
    "$$1-\\frac{1}{k} $$ \n",
    "   Because we assume that the probabilities of storing first k elements are equal, the probability can be calculated by \n",
    "$$\\frac{1-\\frac{1}{k}}{k-1} = \\frac{1}{k}$$ \n",
    "\n",
    "\n",
    "So if the k-th elements appears, we replace the stored item with probability 1/k.\n",
    "\n",
    "\n",
    "\n"
   ]
  },
  {
   "cell_type": "markdown",
   "metadata": {},
   "source": [
    "\n",
    "\n"
   ]
  },
  {
   "cell_type": "markdown",
   "metadata": {
    "collapsed": false
   },
   "source": [
    "#### (b) \n",
    "When\n",
    "the 2nd item appears, the probability of stroing item1 is 1/2, the probability of stroing item2 is 1/2;\n",
    "\n",
    "\n",
    "When the 3rd item appears, item3  1/2, item2 1/4, item1 1/4;\n",
    "\n",
    "\n",
    "When the 4th item appears, item4  1/2, item3 1/4, item2 1/8, item1 1/8;\n",
    "\n",
    "\n",
    "......\n",
    "\n",
    "\n",
    "When the n-th item appears, item n 1/2, item(n-1) 1/4, .......,item k  \n",
    "$$\\frac{1}{2^{n-k+1}}$$\n",
    "item2  $$\\frac{1}{2^{n-1}}$$\n",
    "item1  $$\\frac{1}{2^{n-1}}$$\n"
   ]
  },
  {
   "cell_type": "markdown",
   "metadata": {
    "collapsed": true
   },
   "source": [
    "\n",
    "\n"
   ]
  },
  {
   "cell_type": "markdown",
   "metadata": {},
   "source": [
    "### Problem 3:\n",
    "\n",
    "#### (a) \n",
    "\n",
    "\n",
    "Divide and Conquer\n",
    "\n",
    "\n",
    "The major element may not exist in the arary, so we need two functions: one to find the major element and the other to judge whether the number of major elements is greater than half of the array's size.\n",
    "The base case for the recursion algorithm is that when the array has only one element, then it is the majority one. \n",
    "\n",
    "\n",
    "\n",
    "Pseudo code:\n",
    "\n",
    "\n",
    "\n",
    "    boolean is_Major_exist(A)\n",
    "        (major, count) = Majority_Element(A, A[0], A[A.size()])\n",
    "        if count > A.size()/2  \n",
    "             return true\n",
    "        else return false\n",
    "\n",
    "\n",
    "    Majority_Element(A , left, right)\n",
    "        if left == right, return (A[left], 1)\n",
    "        mid = left + (right - left)/2\n",
    "        (left_major, left_count) = Majority_Element(A, left, mid)\n",
    "        (right_major, right_count) = Majority_Element(A, mid+1, right)\n",
    "        if left_major == right_major\n",
    "            return (left_major, left_count+right_count)\n",
    "        if left_count> right_count\n",
    "            return (left_major, left_count)\n",
    "        else return (right_major, right_count)"
   ]
  },
  {
   "cell_type": "markdown",
   "metadata": {},
   "source": [
    "\n",
    "\n"
   ]
  },
  {
   "cell_type": "markdown",
   "metadata": {},
   "source": [
    "#### (b)\n",
    "\n",
    "\n",
    "Moore voting algorithm\n",
    "\n",
    "\n",
    "\n",
    "$$T(n) = 2*n + O(1) = O(n)$$\n",
    "\n",
    "\n",
    "We need a variable(\"count\" in the pseudocode) to judge which element is the major element. Once the current major element appears less time than the sum of appearence times of other elements, a new major is picked.  So if the major element exist, the algorithm will find it and get count >0. The major element may not exist in the arary, so we need to judge whether the element we find at last is the major element. \n",
    "\n",
    "\n",
    "Pseudo code:\n",
    "\n",
    "\n",
    "\n",
    "     Majority_Element(A)\n",
    "        count = 0\n",
    "        for i from 0 to A.size()-1 do:\n",
    "            if count==0 \n",
    "                major = A[i]\n",
    "                count = 1;\n",
    "            else\n",
    "                if major == A[i]\n",
    "                    count = count + 1\n",
    "                else\n",
    "                    count = count - 1\n",
    "                    \n",
    "        majorCnt = 0 \n",
    "        for i from 0 to A.size()-1 do:\n",
    "            if A[i] == major\n",
    "                majorCnt = majorCnt + 1\n",
    "         \n",
    "        if majorCnt > A.size()/2\n",
    "            return majorCnt\n",
    "      \n",
    "                "
   ]
  },
  {
   "cell_type": "markdown",
   "metadata": {},
   "source": [
    "\n",
    "\n"
   ]
  },
  {
   "cell_type": "markdown",
   "metadata": {},
   "source": [
    "### Problem 4\n",
    "#### (a)\n",
    "\n",
    "If all the elements are equal, the function \"PARTITION\" will be called n times. \n",
    "\n",
    "\n",
    "Every time \"PARTITION\" is called, it costs O(1) outside the for loop in \"PARTITION\". Inside the for loop, for the k-th \"PARTITION\" called, there are n-k comparisons. Thus, the total comparison times should be \n",
    "$$\\sum_{i=2}^n i  =  O(n^2)$$\n",
    "So the running time for randomized quicksort should be n^2 if all elements are equal.\n",
    "\n",
    "\n"
   ]
  },
  {
   "cell_type": "markdown",
   "metadata": {},
   "source": [
    "\n",
    "\n"
   ]
  },
  {
   "cell_type": "markdown",
   "metadata": {},
   "source": [
    "#### (b)\n",
    "\n",
    "Partition' (A, p, r)\n",
    "\n",
    "\n",
    "\n",
    "    x = A[r]\n",
    "    i = p-1\n",
    "    k = p-1\n",
    "    for j = p to r do:\n",
    "        if A[j] < x\n",
    "            i = i+1\n",
    "            k = k+1\n",
    "            swap(A[j], A[i])\n",
    "            swap(A[k], A[j])\n",
    "        end if\n",
    "        if A[j] = x\n",
    "            k = k+1\n",
    "            swap(A[k], A[j])\n",
    "        end if\n",
    "     end for\n",
    "     swap(A[r], A[i+1])\n",
    "     swap(A[r], A[k+1])\n",
    "     return (i+1,k+1)\n",
    "     \n",
    "\n",
    "\n",
    "\n"
   ]
  },
  {
   "cell_type": "markdown",
   "metadata": {},
   "source": [
    "#### (c)\n",
    "RANDOMIZED-PARTITION' (A, p, r)\n",
    "\n",
    "\n",
    "        i = RANDOM (p,r)\n",
    "        swap(A[i], A[r])\n",
    "        return PARTITION'(A, p, r)\n",
    "\n",
    "\n",
    "\n",
    "RANDOMIZED-QUICKSORT' (A ,p, r)\n",
    "\n",
    "    if p < r\n",
    "        (q, t) = RANDOMIZED-PARTITION' (A, p, r)\n",
    "        RANDOMIZED-QUICKSORT'(A, p, q-1)\n",
    "        RANDOMIZED-QUICKSORT'(A, t+1, r)\n",
    "        \n",
    "        \n",
    "\n",
    "\n"
   ]
  },
  {
   "cell_type": "markdown",
   "metadata": {},
   "source": [
    "\n",
    "\n",
    "\n"
   ]
  },
  {
   "cell_type": "markdown",
   "metadata": {},
   "source": [
    "#### (d)\n",
    "In section 7.4.2, the author suppose that all the elements are distinct so that any two elements are compaired only once. If there are equal elements, they may be compared for more than one time and the following analysis of the expectation of how many times Z(i) and Z(j) are compared won't hold. In the new algorithm QUICKSORT', all the elements equal to pivot will not be used in the next recursion, so they will only be compared to other elements again.\n",
    "\n",
    "\n"
   ]
  },
  {
   "cell_type": "markdown",
   "metadata": {},
   "source": [
    "\n",
    "\n"
   ]
  },
  {
   "cell_type": "markdown",
   "metadata": {},
   "source": [
    "### Problem 5\n",
    "#### (a)\n",
    "\n",
    "\n",
    "Proof:\n",
    "\n",
    "\n",
    "**Base:  **   When A.length = 1, this algorithm can sort A.\n",
    "\n",
    "\n",
    "**Hypothesis:  **  Suppose for any 1< n < A.length, the algorithm sorts A correctly.\n",
    "\n",
    "\n",
    "**Step:  **  In the third line in the algorithm, the function PARTITION divide A into two parts, A[1,…,q-1] and A[q+1,...,r] (every element in A[1,…,q-1] is less than or equal to A[q], every element in A[q+1,...,r] is greater than A[q]) both lengths < A.length. According to the hypothesis, both part can be sorted correctly into $$ A[1]≤A[2]≤⋯A[q-1] \\  and  \\ A[q+1]≤⋯≤A[n]$$\n",
    "Then A can be sorted into $$A[1]≤A[2]≤⋯A[q-1],\\ A[q],\\ A[q]≤A[q+1]≤⋯A[n]$$"
   ]
  },
  {
   "cell_type": "markdown",
   "metadata": {},
   "source": [
    "\n",
    "\n",
    "\n"
   ]
  },
  {
   "cell_type": "markdown",
   "metadata": {
    "collapsed": true
   },
   "source": [
    "#### (b)\n",
    "A new 'q' is **pushed** into the top stack every time the TAIL-RECURSIVE-QUICKSOR function is called. After the left part of A[q] (divided by calling PARTIRION) is sorted, the newest 'q' is **popped** and a new 'p' is **pushed**.  So the length of stack reaches $$\\Theta(n)$$ when the array has already been sorted. The TAIL-RECURSIVE-QUICKSOR will be called n-1 times because the right part of A[q] is always empty and no 'q' is **popped** until n-1 iteration. "
   ]
  },
  {
   "cell_type": "markdown",
   "metadata": {
    "collapsed": true
   },
   "source": []
  },
  {
   "cell_type": "markdown",
   "metadata": {
    "collapsed": true
   },
   "source": [
    "#### (c)\n",
    "We can modify the algorithm to do recursion firstly on the smaller partition so more elements will be **popped** during the whole process. The pseudo code is shown below:\n",
    "\n",
    "\n",
    "\n",
    "    TAIL-RECURSIVE-QUICKSORT(A,p,r)\n",
    "       While p<r\n",
    "          q=Partition(A,p,r)\n",
    "          if q<=(p+r)/2 then\n",
    "            TAIL-RECURSIVE-QUICKSORT(A,p,q-1)\n",
    "            p=q+1\n",
    "          Else \n",
    "            TAIL-RECURSIVE-QUICKSORT(A,q+1,r)\n",
    "            r=q-1\n",
    "          End if\n",
    "  \n",
    "\n",
    "The worst case is every pivot picked is the median of the part to be sorted. No elements will be popped until the length of stack reaches $$\\Theta(lg n)$$. No extra time is wasted so the expected running time maitains O(n lg n)\n"
   ]
  },
  {
   "cell_type": "markdown",
   "metadata": {},
   "source": []
  },
  {
   "cell_type": "markdown",
   "metadata": {},
   "source": [
    "### Problem 6\n",
    "#### (a)  \n",
    "$$ {\\begin{pmatrix} A_{11} & A_{12} \\\\A_{21} & A_{22}\\end{pmatrix}}^2 = \\begin{pmatrix} A_{11}*A_{11}+A_{12}*A_{21} & A_{11}*A_{12}+A_{12}*A_{22} \\\\A_{11}*A_{21}+A_{21}*A_{22} & A_{21}*A_{12}+A_{22}*A_{22}\\end{pmatrix}$$\n",
    "\n",
    "\n",
    "\n",
    "Only need five integer multiplications:\n",
    "$$A_{11}*A_{11}$$\n",
    "$$A_{12}*A_{21}$$\n",
    "$$A_{22}*A_{22}$$\n",
    "$$A_{21}*(A_{11}+A_{22})$$\n",
    "$$A_{12}*(A_{11}+A_{22})$$\n",
    "\n",
    "\n"
   ]
  },
  {
   "cell_type": "markdown",
   "metadata": {},
   "source": [
    "#### (b)\n",
    "\"Reducing 7 subproblems of size n/2 into 5 subproblems of size n/2\" can only be used for 2 X 2 matrix because integer multiplication is commutative but matrix multiplication is not commutative. For example, if A is a matrix of size n that can be divided into 4 matrix P, Q, M, N of size n/2:\n",
    "$$ A ={\\begin{pmatrix} P & Q \\\\M & N\\end{pmatrix}}^2 = \\begin{pmatrix} P * P + Q * M & P * Q + Q* N \\\\M * P + N * M & M * Q + N * N\\end{pmatrix}$$\n",
    "\n",
    "\n",
    "Q * M ≠ M * Q. So square of n X n matrix cannot be divided into 5 subproblems of multiplication of n/2 X n/2 matrix."
   ]
  },
  {
   "cell_type": "markdown",
   "metadata": {},
   "source": [
    "\n",
    "\n"
   ]
  },
  {
   "cell_type": "raw",
   "metadata": {},
   "source": []
  },
  {
   "cell_type": "markdown",
   "metadata": {},
   "source": [
    "#### (c)\n",
    "Suppose we need to calculate matrix multiplication A*B (A, B are of size n X n). We first set C = A + B. C is also a n X n matrix. \n",
    "\n",
    "$$AB  = \\frac{1}{2} *(C^2 - A^2 - B^2)$$\n",
    "\n",
    "\n",
    "So we can calculate AB using square of matrix of size n X n. \n",
    "\n",
    "\n",
    "If the running time of matrix square is $$O(n^c)$$ and the runnint time of matrix addition is $$T_{add} \\ \\ \\ (T_{add} < O(n^c) )$$ \n",
    "Then the time of matrix multiplication is $$3*O(n^c) + T_{add} = O(n^c)$$"
   ]
  },
  {
   "cell_type": "markdown",
   "metadata": {},
   "source": []
  },
  {
   "cell_type": "markdown",
   "metadata": {},
   "source": []
  }
 ],
 "metadata": {
  "kernelspec": {
   "display_name": "Python 2",
   "language": "python",
   "name": "python2"
  },
  "language_info": {
   "codemirror_mode": {
    "name": "ipython",
    "version": 2
   },
   "file_extension": ".py",
   "mimetype": "text/x-python",
   "name": "python",
   "nbconvert_exporter": "python",
   "pygments_lexer": "ipython2",
   "version": "2.7.11"
  }
 },
 "nbformat": 4,
 "nbformat_minor": 0
}
